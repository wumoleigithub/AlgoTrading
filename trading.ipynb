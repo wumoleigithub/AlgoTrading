{
 "cells": [
  {
   "cell_type": "code",
   "execution_count": 1,
   "id": "10d8c395-b4bc-4b91-a3a3-33fba12ffa24",
   "metadata": {},
   "outputs": [
    {
     "name": "stderr",
     "output_type": "stream",
     "text": [
      "Failed to get ticker 'SPY' reason: HTTPSConnectionPool(host='fc.yahoo.com', port=443): Max retries exceeded with url: / (Caused by SSLError(SSLEOFError(8, '[SSL: UNEXPECTED_EOF_WHILE_READING] EOF occurred in violation of protocol (_ssl.c:1000)')))\n",
      "$SPY: possibly delisted; no price data found  (period=1mo)\n"
     ]
    },
    {
     "ename": "TypeError",
     "evalue": "Expect data.index as DatetimeIndex",
     "output_type": "error",
     "traceback": [
      "\u001b[0;31m---------------------------------------------------------------------------\u001b[0m",
      "\u001b[0;31mTypeError\u001b[0m                                 Traceback (most recent call last)",
      "Cell \u001b[0;32mIn[1], line 31\u001b[0m\n\u001b[1;32m     28\u001b[0m bull_bars \u001b[38;5;241m=\u001b[39m data[data[\u001b[38;5;124m\"\u001b[39m\u001b[38;5;124mBullTrendBar\u001b[39m\u001b[38;5;124m\"\u001b[39m]]\n\u001b[1;32m     30\u001b[0m \u001b[38;5;66;03m# 绘制 K 线图\u001b[39;00m\n\u001b[0;32m---> 31\u001b[0m fig, ax \u001b[38;5;241m=\u001b[39m mpf\u001b[38;5;241m.\u001b[39mplot(\n\u001b[1;32m     32\u001b[0m     data, \n\u001b[1;32m     33\u001b[0m     \u001b[38;5;28mtype\u001b[39m\u001b[38;5;241m=\u001b[39m\u001b[38;5;124m\"\u001b[39m\u001b[38;5;124mcandle\u001b[39m\u001b[38;5;124m\"\u001b[39m, \n\u001b[1;32m     34\u001b[0m     style\u001b[38;5;241m=\u001b[39m\u001b[38;5;124m\"\u001b[39m\u001b[38;5;124mcharles\u001b[39m\u001b[38;5;124m\"\u001b[39m,\n\u001b[1;32m     35\u001b[0m     volume\u001b[38;5;241m=\u001b[39m\u001b[38;5;28;01mFalse\u001b[39;00m, \n\u001b[1;32m     36\u001b[0m     figsize\u001b[38;5;241m=\u001b[39m(\u001b[38;5;241m10\u001b[39m,\u001b[38;5;241m6\u001b[39m),\n\u001b[1;32m     37\u001b[0m     returnfig\u001b[38;5;241m=\u001b[39m\u001b[38;5;28;01mTrue\u001b[39;00m\n\u001b[1;32m     38\u001b[0m )\n\u001b[1;32m     40\u001b[0m \u001b[38;5;66;03m# 添加绿色向上箭头标注\u001b[39;00m\n\u001b[1;32m     41\u001b[0m \u001b[38;5;28;01mfor\u001b[39;00m idx \u001b[38;5;129;01min\u001b[39;00m bull_bars\u001b[38;5;241m.\u001b[39mindex:\n",
      "File \u001b[0;32m/opt/anaconda3/lib/python3.12/site-packages/mplfinance/plotting.py:417\u001b[0m, in \u001b[0;36mplot\u001b[0;34m(data, **kwargs)\u001b[0m\n\u001b[1;32m    414\u001b[0m \u001b[38;5;66;03m# translate alias types:\u001b[39;00m\n\u001b[1;32m    415\u001b[0m config[\u001b[38;5;124m'\u001b[39m\u001b[38;5;124mtype\u001b[39m\u001b[38;5;124m'\u001b[39m] \u001b[38;5;241m=\u001b[39m _get_valid_plot_types(config[\u001b[38;5;124m'\u001b[39m\u001b[38;5;124mtype\u001b[39m\u001b[38;5;124m'\u001b[39m])\n\u001b[0;32m--> 417\u001b[0m dates,opens,highs,lows,closes,volumes \u001b[38;5;241m=\u001b[39m _check_and_prepare_data(data, config)\n\u001b[1;32m    419\u001b[0m config[\u001b[38;5;124m'\u001b[39m\u001b[38;5;124mxlim\u001b[39m\u001b[38;5;124m'\u001b[39m] \u001b[38;5;241m=\u001b[39m _check_and_convert_xlim_configuration(data, config)\n\u001b[1;32m    421\u001b[0m \u001b[38;5;28;01mif\u001b[39;00m config[\u001b[38;5;124m'\u001b[39m\u001b[38;5;124mtype\u001b[39m\u001b[38;5;124m'\u001b[39m] \u001b[38;5;129;01min\u001b[39;00m VALID_PMOVE_TYPES \u001b[38;5;129;01mand\u001b[39;00m config[\u001b[38;5;124m'\u001b[39m\u001b[38;5;124maddplot\u001b[39m\u001b[38;5;124m'\u001b[39m] \u001b[38;5;129;01mis\u001b[39;00m \u001b[38;5;129;01mnot\u001b[39;00m \u001b[38;5;28;01mNone\u001b[39;00m:\n",
      "File \u001b[0;32m/opt/anaconda3/lib/python3.12/site-packages/mplfinance/_arg_validators.py:32\u001b[0m, in \u001b[0;36m_check_and_prepare_data\u001b[0;34m(data, config)\u001b[0m\n\u001b[1;32m     29\u001b[0m     \u001b[38;5;28;01mraise\u001b[39;00m \u001b[38;5;167;01mTypeError\u001b[39;00m(\u001b[38;5;124m'\u001b[39m\u001b[38;5;124mExpect data as DataFrame\u001b[39m\u001b[38;5;124m'\u001b[39m)\n\u001b[1;32m     31\u001b[0m \u001b[38;5;28;01mif\u001b[39;00m \u001b[38;5;129;01mnot\u001b[39;00m \u001b[38;5;28misinstance\u001b[39m(data\u001b[38;5;241m.\u001b[39mindex,pd\u001b[38;5;241m.\u001b[39mcore\u001b[38;5;241m.\u001b[39mindexes\u001b[38;5;241m.\u001b[39mdatetimes\u001b[38;5;241m.\u001b[39mDatetimeIndex):\n\u001b[0;32m---> 32\u001b[0m     \u001b[38;5;28;01mraise\u001b[39;00m \u001b[38;5;167;01mTypeError\u001b[39;00m(\u001b[38;5;124m'\u001b[39m\u001b[38;5;124mExpect data.index as DatetimeIndex\u001b[39m\u001b[38;5;124m'\u001b[39m)\n\u001b[1;32m     34\u001b[0m \u001b[38;5;66;03m# We will not be fully case-insensitive (since Pandas columns as NOT case-insensitive)\u001b[39;00m\n\u001b[1;32m     35\u001b[0m \u001b[38;5;66;03m# but because so many people have requested it, for the default column names we will\u001b[39;00m\n\u001b[1;32m     36\u001b[0m \u001b[38;5;66;03m# try both Capitalized and lower case:\u001b[39;00m\n\u001b[1;32m     37\u001b[0m columns \u001b[38;5;241m=\u001b[39m config[\u001b[38;5;124m'\u001b[39m\u001b[38;5;124mcolumns\u001b[39m\u001b[38;5;124m'\u001b[39m]\n",
      "\u001b[0;31mTypeError\u001b[0m: Expect data.index as DatetimeIndex"
     ]
    }
   ],
   "source": [
    "import yfinance as yf\n",
    "import pandas as pd\n",
    "import mplfinance as mpf\n",
    "import numpy as np\n",
    "\n",
    "# 获取 SPY 最近 30 天日线数据\n",
    "ticker = \"SPY\"\n",
    "spy = yf.Ticker(ticker)\n",
    "data = spy.history(period=\"1mo\")  # 获取最近 1 个月数据\n",
    "\n",
    "# 计算 Bull Trend Bar 逻辑\n",
    "def is_bull_trend_bar(row):\n",
    "    \"\"\" 判断当前 K 线是否符合 Bull Trend Bar 的定义 \"\"\"\n",
    "    body = row[\"Close\"] - row[\"Open\"]\n",
    "    upper_shadow = row[\"High\"] - max(row[\"Open\"], row[\"Close\"])\n",
    "    lower_shadow = min(row[\"Open\"], row[\"Close\"]) - row[\"Low\"]\n",
    "    \n",
    "    # Bull Trend Bar 逻辑：主体大于 80%（即最小占比）\n",
    "    body_size = abs(body)\n",
    "    total_range = row[\"High\"] - row[\"Low\"]\n",
    "    \n",
    "    return (row[\"Close\"] > row[\"Open\"]) and (body_size / total_range >= 0.8)\n",
    "\n",
    "# 筛选 Bull Trend Bar\n",
    "data[\"BullTrendBar\"] = data.apply(is_bull_trend_bar, axis=1)\n",
    "\n",
    "# 找出 Bull Trend Bar 位置\n",
    "bull_bars = data[data[\"BullTrendBar\"]]\n",
    "\n",
    "# 绘制 K 线图\n",
    "fig, ax = mpf.plot(\n",
    "    data, \n",
    "    type=\"candle\", \n",
    "    style=\"charles\",\n",
    "    volume=False, \n",
    "    figsize=(10,6),\n",
    "    returnfig=True\n",
    ")\n",
    "\n",
    "# 添加绿色向上箭头标注\n",
    "for idx in bull_bars.index:\n",
    "    ax[0].annotate(\"↑\", \n",
    "                   (idx, bull_bars.loc[idx, \"Low\"] - 0.5), \n",
    "                   color=\"green\", \n",
    "                   fontsize=12, \n",
    "                   ha=\"center\")\n",
    "\n",
    "# 显示图表\n",
    "mpf.show()"
   ]
  },
  {
   "cell_type": "code",
   "execution_count": null,
   "id": "9f481c82-565c-4ddd-a08a-29194d7961f3",
   "metadata": {},
   "outputs": [],
   "source": [
    "from ib_insync import *\n",
    "\n",
    "# 连接到 IBKR Paper Trading 账户（端口 7497）\n",
    "ib = IB()\n",
    "ib.connect('127.0.0.1', 7497, clientId=1)\n",
    "\n",
    "# 检查连接状态\n",
    "if ib.isConnected():\n",
    "    print(\"✅ 成功连接到 IBKR Paper Trade API\")\n",
    "else:\n",
    "    print(\"❌ 连接失败，请检查 TWS / IB Gateway 设置\")"
   ]
  },
  {
   "cell_type": "code",
   "execution_count": null,
   "id": "8d6a4a05-6ac4-4c34-820a-7d1dfb764140",
   "metadata": {},
   "outputs": [],
   "source": []
  }
 ],
 "metadata": {
  "kernelspec": {
   "display_name": "Python 3 (ipykernel)",
   "language": "python",
   "name": "python3"
  },
  "language_info": {
   "codemirror_mode": {
    "name": "ipython",
    "version": 3
   },
   "file_extension": ".py",
   "mimetype": "text/x-python",
   "name": "python",
   "nbconvert_exporter": "python",
   "pygments_lexer": "ipython3",
   "version": "3.12.4"
  }
 },
 "nbformat": 4,
 "nbformat_minor": 5
}
